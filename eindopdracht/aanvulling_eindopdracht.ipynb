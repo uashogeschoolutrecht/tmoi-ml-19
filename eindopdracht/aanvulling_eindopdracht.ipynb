{
  "nbformat": 4,
  "nbformat_minor": 0,
  "metadata": {
    "colab": {
      "name": "aanvulling-eindopdracht.ipynb",
      "provenance": [],
      "collapsed_sections": []
    },
    "kernelspec": {
      "name": "python3",
      "display_name": "Python 3"
    }
  },
  "cells": [
    {
      "cell_type": "markdown",
      "metadata": {
        "id": "PDQZXJ23FW8G"
      },
      "source": [
        "<table align=\"left\">\n",
        "  <td>\n",
        "    <a target=\"_blank\" href=\"https://colab.research.google.com/github/uashogeschoolutrecht/tmoi-ml-19/blob/master/eindopdracht/aanvulling-eindopdracht.ipynb\"><img src=\"https://www.tensorflow.org/images/colab_logo_32px.png\" />Run in Google Colab</a>\n",
        "  </td>\n",
        "</table>"
      ]
    },
    {
      "cell_type": "code",
      "metadata": {
        "id": "kShdlOxd2H7P"
      },
      "source": [
        "import tensorflow as tf\n",
        "import pandas as pd\n",
        "import numpy as np\n",
        "import matplotlib.pyplot as plt"
      ],
      "execution_count": 1,
      "outputs": []
    },
    {
      "cell_type": "markdown",
      "metadata": {
        "id": "ytJaCUHG9eIZ"
      },
      "source": [
        "We maken een aantal dummy inputs"
      ]
    },
    {
      "cell_type": "code",
      "metadata": {
        "id": "kzDl6W2l2XCL"
      },
      "source": [
        "a = np.random.rand(100,30)\n",
        "b = np.random.rand(100,30)\n",
        "c = np.random.rand(100,30)\n",
        "d = np.random.rand(100, 1)"
      ],
      "execution_count": 50,
      "outputs": []
    },
    {
      "cell_type": "markdown",
      "metadata": {
        "id": "GyDTnizK9htL"
      },
      "source": [
        "We kunnen nu datasets maken, met elke shape en vorm die we willen. Als we willen dat de dataset batches ophoest in de vorm `((a, b), (c, d))` dan voeren we dat aan de `tf.data.Dataset`; als we `(X, y)` willen, voeren we dat in; als we `((a, b, c), d)` willen, voeren we dat. Wat je erin stopt, komt er ook uit. Alleen dan gebatched, en geshuffeled, als je dat zou willen."
      ]
    },
    {
      "cell_type": "code",
      "metadata": {
        "id": "u7eVKIbm2tt7"
      },
      "source": [
        "input = ((a, b), (c, d))\n",
        "data = tf.data.Dataset.from_tensor_slices(input).batch(32)"
      ],
      "execution_count": 51,
      "outputs": []
    },
    {
      "cell_type": "markdown",
      "metadata": {
        "id": "KoaLoV0w-T11"
      },
      "source": [
        "In dit geval, krijgen we dus twee tuples, namelijk `(a,b)` en `(c,d)`. We kunnen dat opvangen bijvoorbeeld in twee objecten die we U en V noemen. U wordt dan een tuple, waarvan het eerste item `a` is, en het tweede item `b`, zie hieronder. Een keras model gaat ervan uit dat het eerste ding dat je voert, de input is, en het tweede ding de labels. Dus in dit voorbeeld zouden we het model `(a,b)` voeren als input, en heeft het model schijnbaar twee outputs, twee labels, `(c,d)` die keras gebruikt om de loss mee te berekenen."
      ]
    },
    {
      "cell_type": "code",
      "metadata": {
        "colab": {
          "base_uri": "https://localhost:8080/"
        },
        "id": "WjjAZKKT3GOO",
        "outputId": "bd0b6f62-6c66-4faa-cf05-7e19e7c368f4"
      },
      "source": [
        "for U, V in data.take(1):\n",
        "  print(U[0].shape)\n",
        "  print(U[1].shape)\n",
        "  print(V[0].shape)\n",
        "  print(V[1].shape)"
      ],
      "execution_count": 52,
      "outputs": [
        {
          "output_type": "stream",
          "text": [
            "(32, 30)\n",
            "(32, 30)\n",
            "(32, 30)\n",
            "(32, 1)\n"
          ],
          "name": "stdout"
        }
      ]
    },
    {
      "cell_type": "markdown",
      "metadata": {
        "id": "WRfOOlx2_U0H"
      },
      "source": [
        "Vervolgens kunnen we een functie definieren die een klein model maakt. Dit model neemt maar 1 input, en heeft 1 output. Dit is in feite gewoon een pipeline."
      ]
    },
    {
      "cell_type": "code",
      "metadata": {
        "id": "_zF5HsB43Jyu"
      },
      "source": [
        "def small_model(shape):\n",
        "  input = tf.keras.layers.Input(shape)\n",
        "  output = tf.keras.layers.Dense(100)(input)\n",
        "  model = tf.keras.models.Model(inputs = [input], outputs=[output], name='matruschka')\n",
        "  return model"
      ],
      "execution_count": 54,
      "outputs": []
    },
    {
      "cell_type": "markdown",
      "metadata": {
        "id": "PI6sCVfQ_neN"
      },
      "source": [
        "Omdat ons model flexibel is, kunnen we de shape aanpassen elke keer als we het model definieren. Dus laten we een model definieren met `shape=30`."
      ]
    },
    {
      "cell_type": "code",
      "metadata": {
        "colab": {
          "base_uri": "https://localhost:8080/"
        },
        "id": "QjmxP1zq4Oe8",
        "outputId": "52db6100-ad5d-43ee-dd3d-4a4a4a3845f8"
      },
      "source": [
        "testmodel = small_model(shape=30)\n",
        "testmodel.summary()"
      ],
      "execution_count": 55,
      "outputs": [
        {
          "output_type": "stream",
          "text": [
            "Model: \"matruschka\"\n",
            "_________________________________________________________________\n",
            "Layer (type)                 Output Shape              Param #   \n",
            "=================================================================\n",
            "input_33 (InputLayer)        [(None, 30)]              0         \n",
            "_________________________________________________________________\n",
            "dense_10 (Dense)             (None, 100)               3100      \n",
            "=================================================================\n",
            "Total params: 3,100\n",
            "Trainable params: 3,100\n",
            "Non-trainable params: 0\n",
            "_________________________________________________________________\n"
          ],
          "name": "stdout"
        }
      ]
    },
    {
      "cell_type": "markdown",
      "metadata": {
        "id": "IU7y9edG_1Ld"
      },
      "source": [
        "En jawel, het werkt. We krijgen een model terug, met als inputshape 30, en een Dense layer van 100 units. We kunnen dat testen met een van onze dummy data `a`, die een shape van 30 had:"
      ]
    },
    {
      "cell_type": "code",
      "metadata": {
        "colab": {
          "base_uri": "https://localhost:8080/"
        },
        "id": "9byVNbRJ4WwM",
        "outputId": "8e73d5df-075b-4b8a-82cb-e5319384de83"
      },
      "source": [
        "output = testmodel(a)\n",
        "output.shape"
      ],
      "execution_count": 56,
      "outputs": [
        {
          "output_type": "execute_result",
          "data": {
            "text/plain": [
              "TensorShape([100, 100])"
            ]
          },
          "metadata": {
            "tags": []
          },
          "execution_count": 56
        }
      ]
    },
    {
      "cell_type": "markdown",
      "metadata": {
        "id": "eK4Fjq8fAHYW"
      },
      "source": [
        "Als we nu data invoeren met een andere shape dan gaat het natuurlijk fout."
      ]
    },
    {
      "cell_type": "code",
      "metadata": {
        "colab": {
          "base_uri": "https://localhost:8080/"
        },
        "id": "RUP3Ik1cAB-m",
        "outputId": "5ff6d122-6731-4f95-972d-c99624e79fbf"
      },
      "source": [
        "try:\n",
        "  testmodel(np.random.rand(100, 10))\n",
        "except ValueError as e:\n",
        "  print(str(e))\n"
      ],
      "execution_count": 76,
      "outputs": [
        {
          "output_type": "stream",
          "text": [
            "Input 0 is incompatible with layer matruschka: expected shape=(None, 30), found shape=(100, 10)\n"
          ],
          "name": "stdout"
        }
      ]
    },
    {
      "cell_type": "markdown",
      "metadata": {
        "id": "b_vQTYBIAM7B"
      },
      "source": [
        "Vervolgens gaan we een groot model aanmaken, waarin het kleine model is opgenomen. Op deze manier kun je kleine onderdelen van je model apart definieren, bijvoorbeeld een `encoder` en een `decoder`, of een gedeelte dat de convolutional layers hanteert op een complexe manier. \n",
        "\n",
        "In dit voorbeeld kiezen we voor het volgende: we hebben drie inputs, en twee outputs. (Dat gaat dus niet werken met onze datagenerator, want die genereerde twee tuples.)\n",
        "\n",
        "Die drie inputs gaan alledrie door hetzelfde kleine model, en de outputs kunnen we weer bewerken zoals we willen, bijvoorbeeld concatenaten.\n",
        "\n",
        "Uiteindelijk maken we een model met de functionele API. In dit geval besluiten we om ook `outc` terug te sturen, gewoon omdat het kan.\n",
        "\n",
        "Let op, dit is alleen nog maar de definitie: dat is handig, want dan hoeven we niet steeds die code opnieuw op te tuigen. In principe is dit exact hetzelfde als we steeds deden met de hypermodels, behalve dan dat we geen `hp` object invoeren met hyperparameters, maar onze zelfgekozen objecten (in dit voorbeeld alleen maar `shape`, maar je kunt natuurlijk alles wat je wilt daaraan toevoegen).\n",
        "\n"
      ]
    },
    {
      "cell_type": "code",
      "metadata": {
        "id": "pRb9FDve4qSn"
      },
      "source": [
        "def big_model(shape):\n",
        "  a = tf.keras.layers.Input(shape)\n",
        "  b = tf.keras.layers.Input(shape)\n",
        "  c = tf.keras.layers.Input(shape)\n",
        "  small_dense_model = small_model(shape)\n",
        "  outa = small_dense_model(a)\n",
        "  outb = small_dense_model(b)\n",
        "  outc = small_dense_model(c)\n",
        "  concat = tf.concat([outa, outb, outc], axis=1)\n",
        "  model = tf.keras.models.Model(inputs = [a,b,c], outputs=[concat, outc])\n",
        "  return model"
      ],
      "execution_count": 46,
      "outputs": []
    },
    {
      "cell_type": "markdown",
      "metadata": {
        "id": "N0lKHbF5FVlo"
      },
      "source": [
        ""
      ]
    },
    {
      "cell_type": "markdown",
      "metadata": {
        "id": "j2CTbSaOBvYW"
      },
      "source": [
        "Vervolgens kunnen we met deze definitie daadwerkelijk een model aanmaken, met alle parameters die we maar wensen. In dit geval dus een shape van 30."
      ]
    },
    {
      "cell_type": "code",
      "metadata": {
        "id": "ZMN4Jbs25Atj"
      },
      "source": [
        "model = big_model(30)"
      ],
      "execution_count": 58,
      "outputs": []
    },
    {
      "cell_type": "markdown",
      "metadata": {
        "id": "5At5MxxDCQfL"
      },
      "source": [
        "En jawel, het model ziet eruit zoals we willen. Drie inputs, een matruschka-layer (die dus drie keer wordt hergebruikt) en een concat layer die alles aan elkaar plakt."
      ]
    },
    {
      "cell_type": "code",
      "metadata": {
        "colab": {
          "base_uri": "https://localhost:8080/"
        },
        "id": "vLos1uCU6vDm",
        "outputId": "f007f9de-e15a-4690-f5ce-415bb6b9e4e2"
      },
      "source": [
        "model.summary()"
      ],
      "execution_count": 59,
      "outputs": [
        {
          "output_type": "stream",
          "text": [
            "Model: \"model_12\"\n",
            "__________________________________________________________________________________________________\n",
            "Layer (type)                    Output Shape         Param #     Connected to                     \n",
            "==================================================================================================\n",
            "input_34 (InputLayer)           [(None, 30)]         0                                            \n",
            "__________________________________________________________________________________________________\n",
            "input_35 (InputLayer)           [(None, 30)]         0                                            \n",
            "__________________________________________________________________________________________________\n",
            "input_36 (InputLayer)           [(None, 30)]         0                                            \n",
            "__________________________________________________________________________________________________\n",
            "matruschka (Functional)         (None, 100)          3100        input_34[0][0]                   \n",
            "                                                                 input_35[0][0]                   \n",
            "                                                                 input_36[0][0]                   \n",
            "__________________________________________________________________________________________________\n",
            "tf.concat_6 (TFOpLambda)        (None, 300)          0           matruschka[0][0]                 \n",
            "                                                                 matruschka[1][0]                 \n",
            "                                                                 matruschka[2][0]                 \n",
            "==================================================================================================\n",
            "Total params: 3,100\n",
            "Trainable params: 3,100\n",
            "Non-trainable params: 0\n",
            "__________________________________________________________________________________________________\n"
          ],
          "name": "stdout"
        }
      ]
    },
    {
      "cell_type": "markdown",
      "metadata": {
        "id": "kRDVFG3rEGeN"
      },
      "source": [
        "Nu kunnen we aan de slag met `.compile` en `.fit` om ons model te trainen.\n",
        "\n",
        "Nieuwe modellen testen is nu heel simpel:"
      ]
    },
    {
      "cell_type": "code",
      "metadata": {
        "colab": {
          "base_uri": "https://localhost:8080/"
        },
        "id": "-YXz2lzkEE16",
        "outputId": "86b2066b-22af-4502-e046-e15009c72ac3"
      },
      "source": [
        "model2 = big_model(shape = 500)\n",
        "model2.summary()"
      ],
      "execution_count": 79,
      "outputs": [
        {
          "output_type": "stream",
          "text": [
            "Model: \"model_15\"\n",
            "__________________________________________________________________________________________________\n",
            "Layer (type)                    Output Shape         Param #     Connected to                     \n",
            "==================================================================================================\n",
            "input_46 (InputLayer)           [(None, 500)]        0                                            \n",
            "__________________________________________________________________________________________________\n",
            "input_47 (InputLayer)           [(None, 500)]        0                                            \n",
            "__________________________________________________________________________________________________\n",
            "input_48 (InputLayer)           [(None, 500)]        0                                            \n",
            "__________________________________________________________________________________________________\n",
            "matruschka (Functional)         (None, 100)          50100       input_46[0][0]                   \n",
            "                                                                 input_47[0][0]                   \n",
            "                                                                 input_48[0][0]                   \n",
            "__________________________________________________________________________________________________\n",
            "tf.concat_9 (TFOpLambda)        (None, 300)          0           matruschka[0][0]                 \n",
            "                                                                 matruschka[1][0]                 \n",
            "                                                                 matruschka[2][0]                 \n",
            "==================================================================================================\n",
            "Total params: 50,100\n",
            "Trainable params: 50,100\n",
            "Non-trainable params: 0\n",
            "__________________________________________________________________________________________________\n"
          ],
          "name": "stdout"
        }
      ]
    },
    {
      "cell_type": "markdown",
      "metadata": {
        "id": "lJEQuRFaClkW"
      },
      "source": [
        "We kunnen ook de lagen apart aanroepen"
      ]
    },
    {
      "cell_type": "code",
      "metadata": {
        "colab": {
          "base_uri": "https://localhost:8080/"
        },
        "id": "3PPVGC3160LM",
        "outputId": "8503ad32-8836-472c-b053-4e2c16e8d73e"
      },
      "source": [
        "model.layers"
      ],
      "execution_count": 62,
      "outputs": [
        {
          "output_type": "execute_result",
          "data": {
            "text/plain": [
              "[<tensorflow.python.keras.engine.input_layer.InputLayer at 0x7f00b36d6e48>,\n",
              " <tensorflow.python.keras.engine.input_layer.InputLayer at 0x7f00b36d67f0>,\n",
              " <tensorflow.python.keras.engine.input_layer.InputLayer at 0x7f00b36c9898>,\n",
              " <tensorflow.python.keras.engine.functional.Functional at 0x7f00b3c82c18>,\n",
              " <tensorflow.python.keras.layers.core.TFOpLambda at 0x7f00b36fc198>]"
            ]
          },
          "metadata": {
            "tags": []
          },
          "execution_count": 62
        }
      ]
    },
    {
      "cell_type": "markdown",
      "metadata": {
        "id": "NZiUhUzfCqfY"
      },
      "source": [
        "En herkennen ook onze matruschka laag."
      ]
    },
    {
      "cell_type": "code",
      "metadata": {
        "colab": {
          "base_uri": "https://localhost:8080/"
        },
        "id": "TbUfXNq97Ie8",
        "outputId": "dc097d78-5101-411e-916b-2c6523a0afa0"
      },
      "source": [
        "[x.name for x in model.layers]"
      ],
      "execution_count": 66,
      "outputs": [
        {
          "output_type": "execute_result",
          "data": {
            "text/plain": [
              "['input_34', 'input_35', 'input_36', 'matruschka', 'tf.concat_6']"
            ]
          },
          "metadata": {
            "tags": []
          },
          "execution_count": 66
        }
      ]
    }
  ]
}